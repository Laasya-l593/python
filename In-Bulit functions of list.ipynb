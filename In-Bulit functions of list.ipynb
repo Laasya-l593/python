{
 "cells": [
  {
   "cell_type": "markdown",
   "id": "e75a4217",
   "metadata": {},
   "source": [
    "**append()**"
   ]
  },
  {
   "cell_type": "code",
   "execution_count": 1,
   "id": "1189d0df",
   "metadata": {
    "scrolled": true
   },
   "outputs": [
    {
     "name": "stdout",
     "output_type": "stream",
     "text": [
      "[1, 2, 3, 4, 5]\n"
     ]
    }
   ],
   "source": [
    "a=[1,2,3,4]\n",
    "a.append(5)\n",
    "print(a)"
   ]
  },
  {
   "cell_type": "markdown",
   "id": "3da8bb5f",
   "metadata": {},
   "source": [
    "**insert()**"
   ]
  },
  {
   "cell_type": "code",
   "execution_count": 2,
   "id": "52265ddc",
   "metadata": {},
   "outputs": [
    {
     "name": "stdout",
     "output_type": "stream",
     "text": [
      "[1, 2, 3, 9, 4, 5]\n"
     ]
    }
   ],
   "source": [
    "a.insert(3,9)\n",
    "print(a)"
   ]
  },
  {
   "cell_type": "markdown",
   "id": "9a096605",
   "metadata": {},
   "source": [
    "**append() in loop**"
   ]
  },
  {
   "cell_type": "code",
   "execution_count": 3,
   "id": "520ecb71",
   "metadata": {},
   "outputs": [
    {
     "name": "stdout",
     "output_type": "stream",
     "text": [
      "5\n",
      "4\n",
      "3\n",
      "2\n",
      "1\n",
      "9\n",
      "[4, 3, 2, 1, 9]\n"
     ]
    }
   ],
   "source": [
    "a=int(input())\n",
    "n=[]\n",
    "for i in range(1,a+1):\n",
    "    n.append(int(input()))\n",
    "print(n)"
   ]
  },
  {
   "cell_type": "markdown",
   "id": "0d30635c",
   "metadata": {},
   "source": [
    "**len()**"
   ]
  },
  {
   "cell_type": "code",
   "execution_count": 4,
   "id": "f3f14099",
   "metadata": {},
   "outputs": [
    {
     "name": "stdout",
     "output_type": "stream",
     "text": [
      "5\n"
     ]
    }
   ],
   "source": [
    "a=[1,1.45,'laasya',43,7.342]\n",
    "print(len(a))"
   ]
  },
  {
   "cell_type": "markdown",
   "id": "f01c8cae",
   "metadata": {},
   "source": [
    "**min()**"
   ]
  },
  {
   "cell_type": "code",
   "execution_count": 5,
   "id": "f6896eb1",
   "metadata": {},
   "outputs": [
    {
     "name": "stdout",
     "output_type": "stream",
     "text": [
      "23\n"
     ]
    }
   ],
   "source": [
    "a=[23,45,123,6572,45.34]            # prints minimum value from a list\n",
    "print(min(a))"
   ]
  },
  {
   "cell_type": "markdown",
   "id": "8b1ba8de",
   "metadata": {},
   "source": [
    "**max()**"
   ]
  },
  {
   "cell_type": "code",
   "execution_count": 6,
   "id": "610c4af9",
   "metadata": {},
   "outputs": [
    {
     "name": "stdout",
     "output_type": "stream",
     "text": [
      "6572\n"
     ]
    }
   ],
   "source": [
    "a=[23,45,123,6572,45.34]       # prints maximum value from a list\n",
    "print(max(a))"
   ]
  },
  {
   "cell_type": "markdown",
   "id": "11f7d5ca",
   "metadata": {},
   "source": [
    "**clear()**"
   ]
  },
  {
   "cell_type": "code",
   "execution_count": 7,
   "id": "6d6133df",
   "metadata": {},
   "outputs": [
    {
     "name": "stdout",
     "output_type": "stream",
     "text": [
      "[]\n"
     ]
    }
   ],
   "source": [
    "a=[1,2,3,4]           # whatever the values in the list are removed(cleared)\n",
    "a.clear()\n",
    "print(a)"
   ]
  },
  {
   "cell_type": "markdown",
   "id": "5b597458",
   "metadata": {},
   "source": [
    "**remove()**"
   ]
  },
  {
   "cell_type": "code",
   "execution_count": 8,
   "id": "a371dc20",
   "metadata": {
    "scrolled": true
   },
   "outputs": [
    {
     "name": "stdout",
     "output_type": "stream",
     "text": [
      "[1, 67]\n"
     ]
    }
   ],
   "source": [
    "a=[1,25,67]                # removes the specified element from the list\n",
    "a.remove(25)\n",
    "print(a)"
   ]
  },
  {
   "cell_type": "markdown",
   "id": "1f29f5fc",
   "metadata": {},
   "source": [
    "**del()**"
   ]
  },
  {
   "cell_type": "code",
   "execution_count": 9,
   "id": "96bde934",
   "metadata": {},
   "outputs": [
    {
     "name": "stdout",
     "output_type": "stream",
     "text": [
      "[12, 3, 32, 12]\n",
      "[3, 32, 12]\n"
     ]
    }
   ],
   "source": [
    "a=[12,3,32,12]          # removes the value in the  specified index\n",
    "print(a)\n",
    "del a[0]\n",
    "print(a)"
   ]
  },
  {
   "cell_type": "markdown",
   "id": "64c710d1",
   "metadata": {},
   "source": [
    "**pop()**"
   ]
  },
  {
   "cell_type": "code",
   "execution_count": 10,
   "id": "cbbab190",
   "metadata": {},
   "outputs": [
    {
     "name": "stdout",
     "output_type": "stream",
     "text": [
      "[12, 3, 32, 12]\n",
      "[12, 32, 12]\n"
     ]
    }
   ],
   "source": [
    "a=[12,3,32,12]\n",
    "print(a)                  # removes a value in the specified index value\n",
    "a.pop(1)\n",
    "print(a)"
   ]
  },
  {
   "cell_type": "markdown",
   "id": "b837b6bb",
   "metadata": {},
   "source": [
    "**reverse()**"
   ]
  },
  {
   "cell_type": "code",
   "execution_count": 11,
   "id": "117f6a5e",
   "metadata": {},
   "outputs": [
    {
     "name": "stdout",
     "output_type": "stream",
     "text": [
      "[12, 32, 3, 12]\n"
     ]
    }
   ],
   "source": [
    "a=[12,3,32,12]           # reverse the values in a list\n",
    "a.reverse()\n",
    "print(a)"
   ]
  },
  {
   "cell_type": "markdown",
   "id": "f6f627b4",
   "metadata": {},
   "source": [
    "**sum()**"
   ]
  },
  {
   "cell_type": "code",
   "execution_count": 12,
   "id": "6faa8985",
   "metadata": {},
   "outputs": [
    {
     "name": "stdout",
     "output_type": "stream",
     "text": [
      "6808.34\n"
     ]
    }
   ],
   "source": [
    "a=[23,45,123,6572,45.34]       # for list\n",
    "print(sum(a))"
   ]
  },
  {
   "cell_type": "code",
   "execution_count": 13,
   "id": "37046fad",
   "metadata": {},
   "outputs": [
    {
     "name": "stdout",
     "output_type": "stream",
     "text": [
      "10\n"
     ]
    }
   ],
   "source": [
    "a=(1,2,3,4)                    # for tuple\n",
    "print(sum(a))"
   ]
  },
  {
   "cell_type": "markdown",
   "id": "ec56208b",
   "metadata": {},
   "source": [
    "**sorted()**"
   ]
  },
  {
   "cell_type": "code",
   "execution_count": 14,
   "id": "691991d7",
   "metadata": {},
   "outputs": [
    {
     "name": "stdout",
     "output_type": "stream",
     "text": [
      "[3, 12, 32, 34, 56.34, 76]\n",
      "[3, 12, 32, 34, 56.34, 76]\n"
     ]
    }
   ],
   "source": [
    "s=[12,3,32,76,34,56.34]         # for list\n",
    "print(sorted(s))\n",
    "s=(12,3,32,76,34,56.34)         # for tuple\n",
    "print(sorted(s))"
   ]
  }
 ],
 "metadata": {
  "kernelspec": {
   "display_name": "Python 3 (ipykernel)",
   "language": "python",
   "name": "python3"
  },
  "language_info": {
   "codemirror_mode": {
    "name": "ipython",
    "version": 3
   },
   "file_extension": ".py",
   "mimetype": "text/x-python",
   "name": "python",
   "nbconvert_exporter": "python",
   "pygments_lexer": "ipython3",
   "version": "3.9.12"
  }
 },
 "nbformat": 4,
 "nbformat_minor": 5
}
